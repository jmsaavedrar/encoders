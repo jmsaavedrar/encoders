{
  "cells": [
    {
      "cell_type": "code",
      "execution_count": 2,
      "id": "af8c0432",
      "metadata": {
        "id": "af8c0432"
      },
      "outputs": [],
      "source": [
        "import torch\n",
        "from torchvision import transforms, models\n",
        "import numpy as np\n",
        "import os\n",
        "from PIL import Image\n",
        "import pickle"
      ]
    },
    {
      "cell_type": "markdown",
      "source": [
        "Cargar Datos"
      ],
      "metadata": {
        "id": "QQgUbseTaqPa"
      },
      "id": "QQgUbseTaqPa"
    },
    {
      "cell_type": "code",
      "source": [
        "!wget https://www.dropbox.com/scl/fi/zitvonlp9rlg6b0tzte7t/homy_eval.zip?rlkey=1w67q18zjpimyec3i6wm3u5bf -O homy.zip\n"
      ],
      "metadata": {
        "colab": {
          "base_uri": "https://localhost:8080/"
        },
        "id": "K8wyQgN6atR6",
        "outputId": "be42045e-9aa1-4c86-bfcb-465200e25026"
      },
      "id": "K8wyQgN6atR6",
      "execution_count": 4,
      "outputs": [
        {
          "output_type": "stream",
          "name": "stdout",
          "text": [
            "--2025-07-29 13:42:46--  https://www.dropbox.com/scl/fi/zitvonlp9rlg6b0tzte7t/homy_eval.zip?rlkey=1w67q18zjpimyec3i6wm3u5bf\n",
            "Resolving www.dropbox.com (www.dropbox.com)... 162.125.5.18, 2620:100:601d:18::a27d:512\n",
            "Connecting to www.dropbox.com (www.dropbox.com)|162.125.5.18|:443... connected.\n",
            "HTTP request sent, awaiting response... 302 Found\n",
            "Location: https://uc07d2c4bae852efb68dca383640.dl.dropboxusercontent.com/cd/0/inline/Cua2-ebFPEd3Q419NjVK7YW09Sw-8CZxt1bNzCiXe6laTV3i7qJteu5hLl1FM1bGfFGXFQaJw_tjgpzBRSmh1sCb5R1xHNodRH090eK0LzEed7fbMHrO1ZR8Bt-lTjY3Tnz6C1ePUsXW-B8fbP5I4x2t/file# [following]\n",
            "--2025-07-29 13:42:47--  https://uc07d2c4bae852efb68dca383640.dl.dropboxusercontent.com/cd/0/inline/Cua2-ebFPEd3Q419NjVK7YW09Sw-8CZxt1bNzCiXe6laTV3i7qJteu5hLl1FM1bGfFGXFQaJw_tjgpzBRSmh1sCb5R1xHNodRH090eK0LzEed7fbMHrO1ZR8Bt-lTjY3Tnz6C1ePUsXW-B8fbP5I4x2t/file\n",
            "Resolving uc07d2c4bae852efb68dca383640.dl.dropboxusercontent.com (uc07d2c4bae852efb68dca383640.dl.dropboxusercontent.com)... 162.125.5.15, 2620:100:601d:15::a27d:50f\n",
            "Connecting to uc07d2c4bae852efb68dca383640.dl.dropboxusercontent.com (uc07d2c4bae852efb68dca383640.dl.dropboxusercontent.com)|162.125.5.15|:443... connected.\n",
            "HTTP request sent, awaiting response... 302 Found\n",
            "Location: /cd/0/inline2/CuZDk26sMT0mhqJzp2cJxZy3GeT-NDiuoaIBINZofQTG8ZCzufy9BVWdj-UvseaaoUGc4kLuutEUCHZUFDt86JW6T2RTJiJN0Ecg8cRdTWyX7g-dlpp3ql1jSa2QPunYzajcb4T7dCyHobcJlgILlZ47SqzLlDqlacPj3lbnENxXv4-hUZ3BZ6cLbfIflrcU20Sk7vzmuDoCEhF62ZsjwWvuGUMdrPVgVwJ4J4ZBV5LnNvhwfOCkYhwlZ8CYtGVBOtBl92-AWk4emDkY9IUFjMmt2vGQAkvqW-HqQftv9tHoMClT_rDqA8U5UFJF027vp81PvXTto4F1Tdj9qVGq8pDTMQOrk2wtIUeQ7X9ngsegzcRIH5uyLejCZuTzQpKCTio/file [following]\n",
            "--2025-07-29 13:42:48--  https://uc07d2c4bae852efb68dca383640.dl.dropboxusercontent.com/cd/0/inline2/CuZDk26sMT0mhqJzp2cJxZy3GeT-NDiuoaIBINZofQTG8ZCzufy9BVWdj-UvseaaoUGc4kLuutEUCHZUFDt86JW6T2RTJiJN0Ecg8cRdTWyX7g-dlpp3ql1jSa2QPunYzajcb4T7dCyHobcJlgILlZ47SqzLlDqlacPj3lbnENxXv4-hUZ3BZ6cLbfIflrcU20Sk7vzmuDoCEhF62ZsjwWvuGUMdrPVgVwJ4J4ZBV5LnNvhwfOCkYhwlZ8CYtGVBOtBl92-AWk4emDkY9IUFjMmt2vGQAkvqW-HqQftv9tHoMClT_rDqA8U5UFJF027vp81PvXTto4F1Tdj9qVGq8pDTMQOrk2wtIUeQ7X9ngsegzcRIH5uyLejCZuTzQpKCTio/file\n",
            "Reusing existing connection to uc07d2c4bae852efb68dca383640.dl.dropboxusercontent.com:443.\n",
            "HTTP request sent, awaiting response... 200 OK\n",
            "Length: 10266186 (9.8M) [application/zip]\n",
            "Saving to: ‘homy.zip’\n",
            "\n",
            "homy.zip            100%[===================>]   9.79M  54.8MB/s    in 0.2s    \n",
            "\n",
            "2025-07-29 13:42:48 (54.8 MB/s) - ‘homy.zip’ saved [10266186/10266186]\n",
            "\n"
          ]
        }
      ]
    },
    {
      "cell_type": "code",
      "source": [
        "!unzip homy.zip"
      ],
      "metadata": {
        "id": "Bkt-TewTbKPf",
        "outputId": "163fa66d-9bea-4342-e16f-eb4fdd8ab461",
        "colab": {
          "base_uri": "https://localhost:8080/"
        }
      },
      "id": "Bkt-TewTbKPf",
      "execution_count": 7,
      "outputs": [
        {
          "output_type": "stream",
          "name": "stdout",
          "text": [
            "Archive:  homy.zip\n",
            "replace homy_eval/eval/ph00108.jpg? [y]es, [n]o, [A]ll, [N]one, [r]ename: "
          ]
        }
      ]
    },
    {
      "cell_type": "markdown",
      "source": [
        "# cargar DinoV2"
      ],
      "metadata": {
        "id": "Yif852MKYUdk"
      },
      "id": "Yif852MKYUdk"
    },
    {
      "cell_type": "code",
      "execution_count": 3,
      "id": "50ea852b",
      "metadata": {
        "id": "50ea852b",
        "outputId": "8e8d5f6f-a4f3-45d6-c237-6b89c348b2d5",
        "colab": {
          "base_uri": "https://localhost:8080/"
        }
      },
      "outputs": [
        {
          "output_type": "stream",
          "name": "stdout",
          "text": [
            "Using device: cpu\n"
          ]
        },
        {
          "output_type": "stream",
          "name": "stderr",
          "text": [
            "Downloading: \"https://github.com/facebookresearch/dinov2/zipball/main\" to /root/.cache/torch/hub/main.zip\n",
            "/root/.cache/torch/hub/facebookresearch_dinov2_main/dinov2/layers/swiglu_ffn.py:51: UserWarning: xFormers is not available (SwiGLU)\n",
            "  warnings.warn(\"xFormers is not available (SwiGLU)\")\n",
            "/root/.cache/torch/hub/facebookresearch_dinov2_main/dinov2/layers/attention.py:33: UserWarning: xFormers is not available (Attention)\n",
            "  warnings.warn(\"xFormers is not available (Attention)\")\n",
            "/root/.cache/torch/hub/facebookresearch_dinov2_main/dinov2/layers/block.py:40: UserWarning: xFormers is not available (Block)\n",
            "  warnings.warn(\"xFormers is not available (Block)\")\n",
            "Downloading: \"https://dl.fbaipublicfiles.com/dinov2/dinov2_vits14/dinov2_vits14_pretrain.pth\" to /root/.cache/torch/hub/checkpoints/dinov2_vits14_pretrain.pth\n",
            "100%|██████████| 84.2M/84.2M [00:00<00:00, 239MB/s]\n"
          ]
        }
      ],
      "source": [
        "device = torch.device(\"cuda\" if torch.cuda.is_available() else \"cpu\")\n",
        "print(f\"Using device: {device}\")\n",
        "\n",
        "# load the model (dinov2->vector size 368)\n",
        "model = torch.hub.load('facebookresearch/dinov2', 'dinov2_vits14').to(device)\n"
      ]
    },
    {
      "cell_type": "code",
      "execution_count": 8,
      "id": "8a4592b9",
      "metadata": {
        "id": "8a4592b9"
      },
      "outputs": [],
      "source": [
        "# Definimos las transformaciones para la imagen\n",
        "preprocess = transforms.Compose([\n",
        "    transforms.Resize((224, 224)),\n",
        "    transforms.ToTensor(),\n",
        "    transforms.Normalize(\n",
        "        mean=[0.485, 0.456, 0.406],\n",
        "        std=[0.229, 0.224, 0.225]),\n",
        "    ])\n",
        "\n",
        "def compute_embeddings(lfiles) :\n",
        "    n = len(lfiles)\n",
        "    dim = 384\n",
        "    features = np.zeros((n, dim), dtype = np.float32)\n",
        "    with torch.no_grad():\n",
        "        for i, ifile in enumerate(lfiles) :\n",
        "            image = Image.open(ifile).convert('RGB')\n",
        "            image = preprocess(image).unsqueeze(0).to(device)\n",
        "            features[i,:] = model(image).cpu()[0,:]\n",
        "            if i%10 == 0 :\n",
        "                print('{}/{}'.format(i, n))\n",
        "    return features"
      ]
    },
    {
      "cell_type": "code",
      "execution_count": 9,
      "id": "98396f26",
      "metadata": {
        "id": "98396f26",
        "outputId": "a71a7934-be89-470f-c2f3-f8905a0d2659",
        "colab": {
          "base_uri": "https://localhost:8080/"
        }
      },
      "outputs": [
        {
          "output_type": "stream",
          "name": "stderr",
          "text": [
            "/tmp/ipython-input-8-1322127173.py:18: DeprecationWarning: __array__ implementation doesn't accept a copy keyword, so passing copy=False failed. __array__ must implement 'dtype' and 'copy' keyword arguments.\n",
            "  features[i,:] = model(image).cpu()[0,:]\n"
          ]
        },
        {
          "output_type": "stream",
          "name": "stdout",
          "text": [
            "0/255\n",
            "10/255\n",
            "20/255\n",
            "30/255\n",
            "40/255\n",
            "50/255\n",
            "60/255\n",
            "70/255\n",
            "80/255\n",
            "90/255\n",
            "100/255\n",
            "110/255\n",
            "120/255\n",
            "130/255\n",
            "140/255\n",
            "150/255\n",
            "160/255\n",
            "170/255\n",
            "180/255\n",
            "190/255\n",
            "200/255\n",
            "210/255\n",
            "220/255\n",
            "230/255\n",
            "240/255\n",
            "250/255\n",
            "(255, 384)\n"
          ]
        }
      ],
      "source": [
        "data_dir = '/content/homy_eval'\n",
        "fdata = os.path.join(data_dir, 'eval.txt')\n",
        "lfiles = []\n",
        "with open(fdata) as f:\n",
        "    for ifile in f :\n",
        "        ifile = os.path.join(data_dir, ifile.strip())\n",
        "        lfiles.append(ifile)\n",
        "features = compute_embeddings(lfiles)\n",
        "print(features.shape)\n",
        ""
      ]
    },
    {
      "cell_type": "code",
      "source": [
        "with open('dinov2_homy.pk', 'wb') as f:\n",
        "    pickle.dump(lfiles, f)\n",
        "np.save(\"dinov2_homy_feats.npy\", features)\n",
        "print('saving data ok')"
      ],
      "metadata": {
        "id": "clY4dTKAX0lh",
        "outputId": "b3296be3-59fb-4dd2-c0b1-54e4c409d84a",
        "colab": {
          "base_uri": "https://localhost:8080/"
        }
      },
      "id": "clY4dTKAX0lh",
      "execution_count": 10,
      "outputs": [
        {
          "output_type": "stream",
          "name": "stdout",
          "text": [
            "saving data ok\n"
          ]
        }
      ]
    }
  ],
  "metadata": {
    "kernelspec": {
      "display_name": "ml",
      "language": "python",
      "name": "python3"
    },
    "language_info": {
      "codemirror_mode": {
        "name": "ipython",
        "version": 3
      },
      "file_extension": ".py",
      "mimetype": "text/x-python",
      "name": "python",
      "nbconvert_exporter": "python",
      "pygments_lexer": "ipython3",
      "version": "3.9.21"
    },
    "colab": {
      "provenance": []
    }
  },
  "nbformat": 4,
  "nbformat_minor": 5
}