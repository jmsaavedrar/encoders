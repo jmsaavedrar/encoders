{
  "cells": [
    {
      "cell_type": "code",
      "execution_count": 2,
      "id": "af8c0432",
      "metadata": {
        "id": "af8c0432"
      },
      "outputs": [],
      "source": [
        "import torch\n",
        "from torchvision import transforms, models\n",
        "import numpy as np\n",
        "import os\n",
        "from PIL import Image\n",
        "import pickle"
      ]
    },
    {
      "cell_type": "markdown",
      "source": [
        "Cargar Datos"
      ],
      "metadata": {
        "id": "QQgUbseTaqPa"
      },
      "id": "QQgUbseTaqPa"
    },
    {
      "cell_type": "code",
      "source": [
        "!wget https://www.dropbox.com/scl/fi/zitvonlp9rlg6b0tzte7t/homy_eval.zip?rlkey=1w67q18zjpimyec3i6wm3u5bf -O homy.zip\n"
      ],
      "metadata": {
        "colab": {
          "base_uri": "https://localhost:8080/"
        },
        "id": "K8wyQgN6atR6",
        "outputId": "be42045e-9aa1-4c86-bfcb-465200e25026"
      },
      "id": "K8wyQgN6atR6",
      "execution_count": 4,
      "outputs": [
        {
          "output_type": "stream",
          "name": "stdout",
          "text": [
            "--2025-07-29 13:42:46--  https://www.dropbox.com/scl/fi/zitvonlp9rlg6b0tzte7t/homy_eval.zip?rlkey=1w67q18zjpimyec3i6wm3u5bf\n",
            "Resolving www.dropbox.com (www.dropbox.com)... 162.125.5.18, 2620:100:601d:18::a27d:512\n",
            "Connecting to www.dropbox.com (www.dropbox.com)|162.125.5.18|:443... connected.\n",
            "HTTP request sent, awaiting response... 302 Found\n",
            "Location: https://uc07d2c4bae852efb68dca383640.dl.dropboxusercontent.com/cd/0/inline/Cua2-ebFPEd3Q419NjVK7YW09Sw-8CZxt1bNzCiXe6laTV3i7qJteu5hLl1FM1bGfFGXFQaJw_tjgpzBRSmh1sCb5R1xHNodRH090eK0LzEed7fbMHrO1ZR8Bt-lTjY3Tnz6C1ePUsXW-B8fbP5I4x2t/file# [following]\n",
            "--2025-07-29 13:42:47--  https://uc07d2c4bae852efb68dca383640.dl.dropboxusercontent.com/cd/0/inline/Cua2-ebFPEd3Q419NjVK7YW09Sw-8CZxt1bNzCiXe6laTV3i7qJteu5hLl1FM1bGfFGXFQaJw_tjgpzBRSmh1sCb5R1xHNodRH090eK0LzEed7fbMHrO1ZR8Bt-lTjY3Tnz6C1ePUsXW-B8fbP5I4x2t/file\n",
            "Resolving uc07d2c4bae852efb68dca383640.dl.dropboxusercontent.com (uc07d2c4bae852efb68dca383640.dl.dropboxusercontent.com)... 162.125.5.15, 2620:100:601d:15::a27d:50f\n",
            "Connecting to uc07d2c4bae852efb68dca383640.dl.dropboxusercontent.com (uc07d2c4bae852efb68dca383640.dl.dropboxusercontent.com)|162.125.5.15|:443... connected.\n",
            "HTTP request sent, awaiting response... 302 Found\n",
            "Location: /cd/0/inline2/CuZDk26sMT0mhqJzp2cJxZy3GeT-NDiuoaIBINZofQTG8ZCzufy9BVWdj-UvseaaoUGc4kLuutEUCHZUFDt86JW6T2RTJiJN0Ecg8cRdTWyX7g-dlpp3ql1jSa2QPunYzajcb4T7dCyHobcJlgILlZ47SqzLlDqlacPj3lbnENxXv4-hUZ3BZ6cLbfIflrcU20Sk7vzmuDoCEhF62ZsjwWvuGUMdrPVgVwJ4J4ZBV5LnNvhwfOCkYhwlZ8CYtGVBOtBl92-AWk4emDkY9IUFjMmt2vGQAkvqW-HqQftv9tHoMClT_rDqA8U5UFJF027vp81PvXTto4F1Tdj9qVGq8pDTMQOrk2wtIUeQ7X9ngsegzcRIH5uyLejCZuTzQpKCTio/file [following]\n",
            "--2025-07-29 13:42:48--  https://uc07d2c4bae852efb68dca383640.dl.dropboxusercontent.com/cd/0/inline2/CuZDk26sMT0mhqJzp2cJxZy3GeT-NDiuoaIBINZofQTG8ZCzufy9BVWdj-UvseaaoUGc4kLuutEUCHZUFDt86JW6T2RTJiJN0Ecg8cRdTWyX7g-dlpp3ql1jSa2QPunYzajcb4T7dCyHobcJlgILlZ47SqzLlDqlacPj3lbnENxXv4-hUZ3BZ6cLbfIflrcU20Sk7vzmuDoCEhF62ZsjwWvuGUMdrPVgVwJ4J4ZBV5LnNvhwfOCkYhwlZ8CYtGVBOtBl92-AWk4emDkY9IUFjMmt2vGQAkvqW-HqQftv9tHoMClT_rDqA8U5UFJF027vp81PvXTto4F1Tdj9qVGq8pDTMQOrk2wtIUeQ7X9ngsegzcRIH5uyLejCZuTzQpKCTio/file\n",
            "Reusing existing connection to uc07d2c4bae852efb68dca383640.dl.dropboxusercontent.com:443.\n",
            "HTTP request sent, awaiting response... 200 OK\n",
            "Length: 10266186 (9.8M) [application/zip]\n",
            "Saving to: ‘homy.zip’\n",
            "\n",
            "homy.zip            100%[===================>]   9.79M  54.8MB/s    in 0.2s    \n",
            "\n",
            "2025-07-29 13:42:48 (54.8 MB/s) - ‘homy.zip’ saved [10266186/10266186]\n",
            "\n"
          ]
        }
      ]
    },
    {
      "cell_type": "code",
      "source": [
        "!unzip homy.zip"
      ],
      "metadata": {
        "colab": {
          "base_uri": "https://localhost:8080/"
        },
        "id": "Bkt-TewTbKPf",
        "outputId": "163fa66d-9bea-4342-e16f-eb4fdd8ab461"
      },
      "id": "Bkt-TewTbKPf",
      "execution_count": 7,
      "outputs": [
        {
          "output_type": "stream",
          "name": "stdout",
          "text": [
            "Archive:  homy.zip\n",
            "replace homy_eval/eval/ph00108.jpg? [y]es, [n]o, [A]ll, [N]one, [r]ename: "
          ]
        }
      ]
    },
    {
      "cell_type": "markdown",
      "source": [
        "# cargar DinoV2"
      ],
      "metadata": {
        "id": "Yif852MKYUdk"
      },
      "id": "Yif852MKYUdk"
    },
    {
      "cell_type": "code",
      "execution_count": 3,
      "id": "50ea852b",
      "metadata": {
        "colab": {
          "base_uri": "https://localhost:8080/"
        },
        "id": "50ea852b",
        "outputId": "8e8d5f6f-a4f3-45d6-c237-6b89c348b2d5"
      },
      "outputs": [
        {
          "output_type": "stream",
          "name": "stdout",
          "text": [
            "Using device: cpu\n"
          ]
        },
        {
          "output_type": "stream",
          "name": "stderr",
          "text": [
            "Downloading: \"https://github.com/facebookresearch/dinov2/zipball/main\" to /root/.cache/torch/hub/main.zip\n",
            "/root/.cache/torch/hub/facebookresearch_dinov2_main/dinov2/layers/swiglu_ffn.py:51: UserWarning: xFormers is not available (SwiGLU)\n",
            "  warnings.warn(\"xFormers is not available (SwiGLU)\")\n",
            "/root/.cache/torch/hub/facebookresearch_dinov2_main/dinov2/layers/attention.py:33: UserWarning: xFormers is not available (Attention)\n",
            "  warnings.warn(\"xFormers is not available (Attention)\")\n",
            "/root/.cache/torch/hub/facebookresearch_dinov2_main/dinov2/layers/block.py:40: UserWarning: xFormers is not available (Block)\n",
            "  warnings.warn(\"xFormers is not available (Block)\")\n",
            "Downloading: \"https://dl.fbaipublicfiles.com/dinov2/dinov2_vits14/dinov2_vits14_pretrain.pth\" to /root/.cache/torch/hub/checkpoints/dinov2_vits14_pretrain.pth\n",
            "100%|██████████| 84.2M/84.2M [00:00<00:00, 239MB/s]\n"
          ]
        }
      ],
      "source": [
        "device = torch.device(\"cuda\" if torch.cuda.is_available() else \"cpu\")\n",
        "print(f\"Using device: {device}\")\n",
        "\n",
        "# load the model (dinov2->vector size 368)\n",
        "model = torch.hub.load('facebookresearch/dinov2', 'dinov2_vits14').to(device)\n"
      ]
    },
    {
      "cell_type": "code",
      "execution_count": 8,
      "id": "8a4592b9",
      "metadata": {
        "id": "8a4592b9"
      },
      "outputs": [],
      "source": [
        "# Definimos las transformaciones para la imagen\n",
        "preprocess = transforms.Compose([\n",
        "    transforms.Resize((224, 224)),\n",
        "    transforms.ToTensor(),\n",
        "    transforms.Normalize(\n",
        "        mean=[0.485, 0.456, 0.406],\n",
        "        std=[0.229, 0.224, 0.225]),\n",
        "    ])\n",
        "\n",
        "def compute_embeddings(lfiles) :\n",
        "    n = len(lfiles)\n",
        "    dim = 384\n",
        "    features = np.zeros((n, dim), dtype = np.float32)\n",
        "    with torch.no_grad():\n",
        "        for i, ifile in enumerate(lfiles) :\n",
        "            image = Image.open(ifile).convert('RGB')\n",
        "            image = preprocess(image).unsqueeze(0).to(device)\n",
        "            features[i,:] = model(image).cpu()[0,:]\n",
        "            if i%10 == 0 :\n",
        "                print('{}/{}'.format(i, n))\n",
        "    return features"
      ]
    },
    {
      "cell_type": "code",
      "execution_count": 9,
      "id": "98396f26",
      "metadata": {
        "colab": {
          "base_uri": "https://localhost:8080/"
        },
        "id": "98396f26",
        "outputId": "a71a7934-be89-470f-c2f3-f8905a0d2659"
      },
      "outputs": [
        {
          "output_type": "stream",
          "name": "stderr",
          "text": [
            "/tmp/ipython-input-8-1322127173.py:18: DeprecationWarning: __array__ implementation doesn't accept a copy keyword, so passing copy=False failed. __array__ must implement 'dtype' and 'copy' keyword arguments.\n",
            "  features[i,:] = model(image).cpu()[0,:]\n"
          ]
        },
        {
          "output_type": "stream",
          "name": "stdout",
          "text": [
            "0/255\n",
            "10/255\n",
            "20/255\n",
            "30/255\n",
            "40/255\n",
            "50/255\n",
            "60/255\n",
            "70/255\n",
            "80/255\n",
            "90/255\n",
            "100/255\n",
            "110/255\n",
            "120/255\n",
            "130/255\n",
            "140/255\n",
            "150/255\n",
            "160/255\n",
            "170/255\n",
            "180/255\n",
            "190/255\n",
            "200/255\n",
            "210/255\n",
            "220/255\n",
            "230/255\n",
            "240/255\n",
            "250/255\n",
            "(255, 384)\n"
          ]
        }
      ],
      "source": [
        "data_dir = '/content/homy_eval'\n",
        "fdata = os.path.join(data_dir, 'eval.txt')\n",
        "lfiles = []\n",
        "with open(fdata) as f:\n",
        "    for ifile in f :\n",
        "        ifile = os.path.join(data_dir, ifile.strip())\n",
        "        lfiles.append(ifile)\n",
        "features = compute_embeddings(lfiles)\n",
        "print(features.shape)\n",
        ""
      ]
    },
    {
      "cell_type": "code",
      "source": [
        "with open('dinov2_homy.pk', 'wb') as f:\n",
        "    pickle.dump(lfiles, f)\n",
        "np.save(\"dinov2_homy_feats.npy\", features)\n",
        "print('saving data ok')"
      ],
      "metadata": {
        "colab": {
          "base_uri": "https://localhost:8080/"
        },
        "id": "clY4dTKAX0lh",
        "outputId": "b3296be3-59fb-4dd2-c0b1-54e4c409d84a"
      },
      "id": "clY4dTKAX0lh",
      "execution_count": 10,
      "outputs": [
        {
          "output_type": "stream",
          "name": "stdout",
          "text": [
            "saving data ok\n"
          ]
        }
      ]
    },
    {
      "cell_type": "markdown",
      "source": [
        "Comparar todo contra todos"
      ],
      "metadata": {
        "id": "ATMUdeModO4c"
      },
      "id": "ATMUdeModO4c"
    },
    {
      "cell_type": "code",
      "source": [
        "lfiles = []\n",
        "with open('dinov2_homy.pk', 'rb') as f:\n",
        "    lfiles =pickle.load(f)\n",
        "print(lfiles)"
      ],
      "metadata": {
        "id": "7wfxHEy9dTwS",
        "outputId": "1997a624-fc05-41db-b5e6-cc1756d60e79",
        "colab": {
          "base_uri": "https://localhost:8080/"
        }
      },
      "id": "7wfxHEy9dTwS",
      "execution_count": 11,
      "outputs": [
        {
          "output_type": "stream",
          "name": "stdout",
          "text": [
            "['/content/homy_eval/eval/ph00118.jpg', '/content/homy_eval/eval/ph00238.jpg', '/content/homy_eval/eval/ph00217.jpg', '/content/homy_eval/eval/ph00171.jpg', '/content/homy_eval/eval/ph00181.jpg', '/content/homy_eval/eval/ph00197.jpg', '/content/homy_eval/eval/ph00138.jpg', '/content/homy_eval/eval/ph00055.jpg', '/content/homy_eval/eval/ph00020.jpg', '/content/homy_eval/eval/ph00120.jpg', '/content/homy_eval/eval/ph00153.jpg', '/content/homy_eval/eval/ph00008.jpg', '/content/homy_eval/eval/ph00053.jpg', '/content/homy_eval/eval/ph00157.jpg', '/content/homy_eval/eval/ph00168.jpg', '/content/homy_eval/eval/ph00237.jpg', '/content/homy_eval/eval/ph00049.jpg', '/content/homy_eval/eval/ph00032.jpg', '/content/homy_eval/eval/ph00148.jpg', '/content/homy_eval/eval/ph00182.jpg', '/content/homy_eval/eval/ph00051.jpg', '/content/homy_eval/eval/ph00275.jpg', '/content/homy_eval/eval/ph00244.jpg', '/content/homy_eval/eval/ph00185.jpg', '/content/homy_eval/eval/ph00094.jpg', '/content/homy_eval/eval/ph00134.jpg', '/content/homy_eval/eval/ph00009.jpg', '/content/homy_eval/eval/ph00158.jpg', '/content/homy_eval/eval/ph00090.jpg', '/content/homy_eval/eval/ph00001.jpg', '/content/homy_eval/eval/ph00046.jpg', '/content/homy_eval/eval/ph00188.jpg', '/content/homy_eval/eval/ph00136.jpg', '/content/homy_eval/eval/ph00169.jpg', '/content/homy_eval/eval/ph00106.jpg', '/content/homy_eval/eval/ph00019.jpg', '/content/homy_eval/eval/ph00263.jpg', '/content/homy_eval/eval/ph00103.jpg', '/content/homy_eval/eval/ph00050.jpg', '/content/homy_eval/eval/ph00183.jpg', '/content/homy_eval/eval/ph00068.jpg', '/content/homy_eval/eval/ph00012.jpg', '/content/homy_eval/eval/ph00265.jpg', '/content/homy_eval/eval/ph00098.jpg', '/content/homy_eval/eval/ph00027.jpg', '/content/homy_eval/eval/ph00280.jpg', '/content/homy_eval/eval/ph00034.jpg', '/content/homy_eval/eval/ph00223.jpg', '/content/homy_eval/eval/ph00064.jpg', '/content/homy_eval/eval/ph00037.jpg', '/content/homy_eval/eval/ph00155.jpg', '/content/homy_eval/eval/ph00058.jpg', '/content/homy_eval/eval/ph00044.jpg', '/content/homy_eval/eval/ph00259.jpg', '/content/homy_eval/eval/ph00004.jpg', '/content/homy_eval/eval/ph00274.jpg', '/content/homy_eval/eval/ph00075.jpg', '/content/homy_eval/eval/ph00177.jpg', '/content/homy_eval/eval/ph00229.jpg', '/content/homy_eval/eval/ph00226.jpg', '/content/homy_eval/eval/ph00071.jpg', '/content/homy_eval/eval/ph00117.jpg', '/content/homy_eval/eval/ph00163.jpg', '/content/homy_eval/eval/ph00160.jpg', '/content/homy_eval/eval/ph00039.jpg', '/content/homy_eval/eval/ph00291.jpg', '/content/homy_eval/eval/ph00128.jpg', '/content/homy_eval/eval/ph00047.jpg', '/content/homy_eval/eval/ph00271.jpg', '/content/homy_eval/eval/ph00175.jpg', '/content/homy_eval/eval/ph00228.jpg', '/content/homy_eval/eval/ph00210.jpg', '/content/homy_eval/eval/ph00070.jpg', '/content/homy_eval/eval/ph00119.jpg', '/content/homy_eval/eval/ph00264.jpg', '/content/homy_eval/eval/ph00161.jpg', '/content/homy_eval/eval/ph00193.jpg', '/content/homy_eval/eval/ph00129.jpg', '/content/homy_eval/eval/ph00091.jpg', '/content/homy_eval/eval/ph00300.jpg', '/content/homy_eval/eval/ph00248.jpg', '/content/homy_eval/eval/ph00079.jpg', '/content/homy_eval/eval/ph00246.jpg', '/content/homy_eval/eval/ph00297.jpg', '/content/homy_eval/eval/ph00273.jpg', '/content/homy_eval/eval/ph00112.jpg', '/content/homy_eval/eval/ph00003.jpg', '/content/homy_eval/eval/ph00065.jpg', '/content/homy_eval/eval/ph00232.jpg', '/content/homy_eval/eval/ph00261.jpg', '/content/homy_eval/eval/ph00281.jpg', '/content/homy_eval/eval/ph00260.jpg', '/content/homy_eval/eval/ph00143.jpg', '/content/homy_eval/eval/ph00245.jpg', '/content/homy_eval/eval/ph00111.jpg', '/content/homy_eval/eval/ph00021.jpg', '/content/homy_eval/eval/ph00030.jpg', '/content/homy_eval/eval/ph00166.jpg', '/content/homy_eval/eval/ph00149.jpg', '/content/homy_eval/eval/ph00292.jpg', '/content/homy_eval/eval/ph00204.jpg', '/content/homy_eval/eval/ph00239.jpg', '/content/homy_eval/eval/ph00191.jpg', '/content/homy_eval/eval/ph00256.jpg', '/content/homy_eval/eval/ph00002.jpg', '/content/homy_eval/eval/ph00081.jpg', '/content/homy_eval/eval/ph00122.jpg', '/content/homy_eval/eval/ph00077.jpg', '/content/homy_eval/eval/ph00241.jpg', '/content/homy_eval/eval/ph00107.jpg', '/content/homy_eval/eval/ph00167.jpg', '/content/homy_eval/eval/ph00035.jpg', '/content/homy_eval/eval/ph00174.jpg', '/content/homy_eval/eval/ph00286.jpg', '/content/homy_eval/eval/ph00269.jpg', '/content/homy_eval/eval/ph00100.jpg', '/content/homy_eval/eval/ph00045.jpg', '/content/homy_eval/eval/ph00176.jpg', '/content/homy_eval/eval/ph00187.jpg', '/content/homy_eval/eval/ph00162.jpg', '/content/homy_eval/eval/ph00144.jpg', '/content/homy_eval/eval/ph00208.jpg', '/content/homy_eval/eval/ph00279.jpg', '/content/homy_eval/eval/ph00170.jpg', '/content/homy_eval/eval/ph00164.jpg', '/content/homy_eval/eval/ph00247.jpg', '/content/homy_eval/eval/ph00062.jpg', '/content/homy_eval/eval/ph00243.jpg', '/content/homy_eval/eval/ph00203.jpg', '/content/homy_eval/eval/ph00041.jpg', '/content/homy_eval/eval/ph00277.jpg', '/content/homy_eval/eval/ph00048.jpg', '/content/homy_eval/eval/ph00255.jpg', '/content/homy_eval/eval/ph00190.jpg', '/content/homy_eval/eval/ph00201.jpg', '/content/homy_eval/eval/ph00092.jpg', '/content/homy_eval/eval/ph00057.jpg', '/content/homy_eval/eval/ph00028.jpg', '/content/homy_eval/eval/ph00178.jpg', '/content/homy_eval/eval/ph00224.jpg', '/content/homy_eval/eval/ph00154.jpg', '/content/homy_eval/eval/ph00152.jpg', '/content/homy_eval/eval/ph00221.jpg', '/content/homy_eval/eval/ph00022.jpg', '/content/homy_eval/eval/ph00139.jpg', '/content/homy_eval/eval/ph00231.jpg', '/content/homy_eval/eval/ph00086.jpg', '/content/homy_eval/eval/ph00211.jpg', '/content/homy_eval/eval/ph00262.jpg', '/content/homy_eval/eval/ph00018.jpg', '/content/homy_eval/eval/ph00233.jpg', '/content/homy_eval/eval/ph00061.jpg', '/content/homy_eval/eval/ph00016.jpg', '/content/homy_eval/eval/ph00249.jpg', '/content/homy_eval/eval/ph00252.jpg', '/content/homy_eval/eval/ph00024.jpg', '/content/homy_eval/eval/ph00196.jpg', '/content/homy_eval/eval/ph00054.jpg', '/content/homy_eval/eval/ph00087.jpg', '/content/homy_eval/eval/ph00126.jpg', '/content/homy_eval/eval/ph00212.jpg', '/content/homy_eval/eval/ph00108.jpg', '/content/homy_eval/eval/ph00101.jpg', '/content/homy_eval/eval/ph00156.jpg', '/content/homy_eval/eval/ph00209.jpg', '/content/homy_eval/eval/ph00268.jpg', '/content/homy_eval/eval/ph00114.jpg', '/content/homy_eval/eval/ph00250.jpg', '/content/homy_eval/eval/ph00124.jpg', '/content/homy_eval/eval/ph00207.jpg', '/content/homy_eval/eval/ph00282.jpg', '/content/homy_eval/eval/ph00067.jpg', '/content/homy_eval/eval/ph00105.jpg', '/content/homy_eval/eval/ph00069.jpg', '/content/homy_eval/eval/ph00109.jpg', '/content/homy_eval/eval/ph00127.jpg', '/content/homy_eval/eval/ph00146.jpg', '/content/homy_eval/eval/ph00007.jpg', '/content/homy_eval/eval/ph00257.jpg', '/content/homy_eval/eval/ph00147.jpg', '/content/homy_eval/eval/ph00063.jpg', '/content/homy_eval/eval/ph00214.jpg', '/content/homy_eval/eval/ph00052.jpg', '/content/homy_eval/eval/ph00236.jpg', '/content/homy_eval/eval/ph00254.jpg', '/content/homy_eval/eval/ph00234.jpg', '/content/homy_eval/eval/ph00184.jpg', '/content/homy_eval/eval/ph00253.jpg', '/content/homy_eval/eval/ph00040.jpg', '/content/homy_eval/eval/ph00298.jpg', '/content/homy_eval/eval/ph00145.jpg', '/content/homy_eval/eval/ph00289.jpg', '/content/homy_eval/eval/ph00102.jpg', '/content/homy_eval/eval/ph00137.jpg', '/content/homy_eval/eval/ph00200.jpg', '/content/homy_eval/eval/ph00130.jpg', '/content/homy_eval/eval/ph00093.jpg', '/content/homy_eval/eval/ph00029.jpg', '/content/homy_eval/eval/ph00135.jpg', '/content/homy_eval/eval/ph00284.jpg', '/content/homy_eval/eval/ph00033.jpg', '/content/homy_eval/eval/ph00089.jpg', '/content/homy_eval/eval/ph00110.jpg', '/content/homy_eval/eval/ph00227.jpg', '/content/homy_eval/eval/ph00085.jpg', '/content/homy_eval/eval/ph00066.jpg', '/content/homy_eval/eval/ph00142.jpg', '/content/homy_eval/eval/ph00179.jpg', '/content/homy_eval/eval/ph00133.jpg', '/content/homy_eval/eval/ph00218.jpg', '/content/homy_eval/eval/ph00005.jpg', '/content/homy_eval/eval/ph00192.jpg', '/content/homy_eval/eval/ph00013.jpg', '/content/homy_eval/eval/ph00023.jpg', '/content/homy_eval/eval/ph00266.jpg', '/content/homy_eval/eval/ph00140.jpg', '/content/homy_eval/eval/ph00151.jpg', '/content/homy_eval/eval/ph00220.jpg', '/content/homy_eval/eval/ph00213.jpg', '/content/homy_eval/eval/ph00059.jpg', '/content/homy_eval/eval/ph00235.jpg', '/content/homy_eval/eval/ph00096.jpg', '/content/homy_eval/eval/ph00072.jpg', '/content/homy_eval/eval/ph00276.jpg', '/content/homy_eval/eval/ph00219.jpg', '/content/homy_eval/eval/ph00006.jpg', '/content/homy_eval/eval/ph00038.jpg', '/content/homy_eval/eval/ph00165.jpg', '/content/homy_eval/eval/ph00296.jpg', '/content/homy_eval/eval/ph00043.jpg', '/content/homy_eval/eval/ph00272.jpg', '/content/homy_eval/eval/ph00131.jpg', '/content/homy_eval/eval/ph00216.jpg', '/content/homy_eval/eval/ph00225.jpg', '/content/homy_eval/eval/ph00270.jpg', '/content/homy_eval/eval/ph00073.jpg', '/content/homy_eval/eval/ph00080.jpg', '/content/homy_eval/eval/ph00076.jpg', '/content/homy_eval/eval/ph00222.jpg', '/content/homy_eval/eval/ph00125.jpg', '/content/homy_eval/eval/ph00031.jpg', '/content/homy_eval/eval/ph00267.jpg', '/content/homy_eval/eval/ph00198.jpg', '/content/homy_eval/eval/ph00025.jpg', '/content/homy_eval/eval/ph00199.jpg', '/content/homy_eval/eval/ph00242.jpg', '/content/homy_eval/eval/ph00026.jpg', '/content/homy_eval/eval/ph00113.jpg', '/content/homy_eval/eval/ph00082.jpg', '/content/homy_eval/eval/ph00056.jpg', '/content/homy_eval/eval/ph00186.jpg', '/content/homy_eval/eval/ph00290.jpg', '/content/homy_eval/eval/ph00195.jpg', '/content/homy_eval/eval/ph00173.jpg', '/content/homy_eval/eval/ph00172.jpg']\n"
          ]
        }
      ]
    },
    {
      "cell_type": "markdown",
      "source": [],
      "metadata": {
        "id": "s29Z12pPd0y3"
      },
      "id": "s29Z12pPd0y3"
    },
    {
      "cell_type": "code",
      "source": [
        "features = np.load(\"dinov2_homy_feats.npy\")\n",
        "print(features.shape)\n"
      ],
      "metadata": {
        "id": "ryG0GvJhdn81",
        "outputId": "7969c145-f22e-4d3d-bc65-9054f447e7c8",
        "colab": {
          "base_uri": "https://localhost:8080/"
        }
      },
      "id": "ryG0GvJhdn81",
      "execution_count": 12,
      "outputs": [
        {
          "output_type": "stream",
          "name": "stdout",
          "text": [
            "(255, 384)\n"
          ]
        }
      ]
    },
    {
      "cell_type": "markdown",
      "source": [
        "Calcular similitud coseno"
      ],
      "metadata": {
        "id": "IS6YluFaeNCi"
      },
      "id": "IS6YluFaeNCi"
    },
    {
      "cell_type": "code",
      "source": [
        "norm2 = np.linalg.norm(features, ord = 2, keepdims = True)\n",
        "feats_norm = features / norm2\n",
        "sim = feats_norm @ np.transpose(feats_norm)\n",
        "sim_idx = np.argsort(-sim, axis = 1)\n",
        "print(sim.shape)"
      ],
      "metadata": {
        "id": "eQ0HeByzeRDG",
        "outputId": "90810758-8489-489f-d7e8-b1f116750953",
        "colab": {
          "base_uri": "https://localhost:8080/"
        }
      },
      "id": "eQ0HeByzeRDG",
      "execution_count": 50,
      "outputs": [
        {
          "output_type": "stream",
          "name": "stdout",
          "text": [
            "(255, 255)\n"
          ]
        }
      ]
    },
    {
      "cell_type": "markdown",
      "source": [
        "Visualizar Resultados"
      ],
      "metadata": {
        "id": "8oSb-_lseyjy"
      },
      "id": "8oSb-_lseyjy"
    },
    {
      "cell_type": "code",
      "source": [
        "import matplotlib.pyplot as plt"
      ],
      "metadata": {
        "id": "Q4tc0CNIgAND"
      },
      "id": "Q4tc0CNIgAND",
      "execution_count": 51,
      "outputs": []
    },
    {
      "cell_type": "code",
      "source": [
        "idx_query = np.random.randint(len(lfiles))\n",
        "print(idx_query)\n",
        "k = 10\n",
        "best_idx = sim_idx[idx_query, :k + 1]\n",
        "fig, ax = plt.subplots(1, k +1)\n",
        "for i in range(k + 1) :\n",
        "  ax[i].set_title(str(i))\n",
        "  ax[i].set_axis_off()\n",
        "ax[0].set_title('query')\n",
        "isize = 64\n",
        "for i, idx in enumerate(best_idx) :\n",
        "  image = Image.open(lfiles[idx]).convert('RGB')\n",
        "  image = image.resize((isize,isize))\n",
        "  ax[i].imshow(np.asarray(image))\n",
        "plt.show()"
      ],
      "metadata": {
        "id": "30wq-BuagHH2",
        "outputId": "6ed058ec-5ab2-44cd-8452-f98344bff02f",
        "colab": {
          "base_uri": "https://localhost:8080/",
          "height": 114
        }
      },
      "id": "30wq-BuagHH2",
      "execution_count": 52,
      "outputs": [
        {
          "output_type": "stream",
          "name": "stdout",
          "text": [
            "51\n"
          ]
        },
        {
          "output_type": "display_data",
          "data": {
            "text/plain": [
              "<Figure size 640x480 with 11 Axes>"
            ],
            "image/png": "[encoded data removed]"
          },
          "metadata": {}
        }
      ]
    }
  ],
  "metadata": {
    "kernelspec": {
      "display_name": "ml",
      "language": "python",
      "name": "python3"
    },
    "language_info": {
      "codemirror_mode": {
        "name": "ipython",
        "version": 3
      },
      "file_extension": ".py",
      "mimetype": "text/x-python",
      "name": "python",
      "nbconvert_exporter": "python",
      "pygments_lexer": "ipython3",
      "version": "3.9.21"
    },
    "colab": {
      "provenance": []
    }
  },
  "nbformat": 4,
  "nbformat_minor": 5
}