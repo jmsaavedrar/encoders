{
 "cells": [
  {
   "cell_type": "code",
   "execution_count": null,
   "id": "af8c0432",
   "metadata": {},
   "outputs": [],
   "source": [
    "import torch\n",
    "from torchvision import transforms, models\n",
    "import numpy as np\n",
    "import os\n",
    "from PIL import Image\n",
    "import os \n",
    "import pickle"
   ]
  },
  {
   "cell_type": "code",
   "execution_count": 2,
   "id": "50ea852b",
   "metadata": {},
   "outputs": [
    {
     "name": "stdout",
     "output_type": "stream",
     "text": [
      "Using device: cpu\n"
     ]
    },
    {
     "name": "stderr",
     "output_type": "stream",
     "text": [
      "Using cache found in /home/jsaavedr/.cache/torch/hub/facebookresearch_dinov2_main\n",
      "/home/jsaavedr/.cache/torch/hub/facebookresearch_dinov2_main/dinov2/layers/swiglu_ffn.py:51: UserWarning: xFormers is not available (SwiGLU)\n",
      "  warnings.warn(\"xFormers is not available (SwiGLU)\")\n",
      "/home/jsaavedr/.cache/torch/hub/facebookresearch_dinov2_main/dinov2/layers/attention.py:33: UserWarning: xFormers is not available (Attention)\n",
      "  warnings.warn(\"xFormers is not available (Attention)\")\n",
      "/home/jsaavedr/.cache/torch/hub/facebookresearch_dinov2_main/dinov2/layers/block.py:40: UserWarning: xFormers is not available (Block)\n",
      "  warnings.warn(\"xFormers is not available (Block)\")\n"
     ]
    }
   ],
   "source": [
    "device = torch.device(\"cuda\" if torch.cuda.is_available() else \"cpu\")\n",
    "print(f\"Using device: {device}\")\n",
    "\n",
    "# load the model (dinov2->vector size 368)\n",
    "model = torch.hub.load('facebookresearch/dinov2', 'dinov2_vits14').to(device)\n"
   ]
  },
  {
   "cell_type": "code",
   "execution_count": 3,
   "id": "8a4592b9",
   "metadata": {},
   "outputs": [],
   "source": [
    "# Definimos las transformaciones para la imagen\n",
    "preprocess = transforms.Compose([\n",
    "    transforms.Resize((224, 224)),\n",
    "    transforms.ToTensor(),\n",
    "    transforms.Normalize(\n",
    "        mean=[0.485, 0.456, 0.406], \n",
    "        std=[0.229, 0.224, 0.225]),\n",
    "    ])\n",
    "\n",
    "def compute_embeddings(lfiles) :\n",
    "    n = len(lfiles)\n",
    "    dim = 384\n",
    "    features = np.zeros((n, dim), dtype = np.float32)\n",
    "    with torch.no_grad():\n",
    "        for i, ifile in enumerate(lfiles) :\n",
    "            image = Image.open(ifile).convert('RGB')\n",
    "            image = preprocess(image).unsqueeze(0).to(device)\n",
    "            features[i,:] = model(image).cpu()[0,:]\n",
    "            if i%10 == 0 :\n",
    "                print('{}/{}'.format(i, n))\n",
    "    return features"
   ]
  },
  {
   "cell_type": "code",
   "execution_count": null,
   "id": "98396f26",
   "metadata": {},
   "outputs": [],
   "source": [
    "data_dir = '/home/data/Homy'\n",
    "fdata = '/home/data/Homy/eval.txt'\n",
    "lfiles = []\n",
    "with open(fdata) as f:\n",
    "    for ifile in f :\n",
    "        ifile = os.path.join(data_dir, ifile.strip())\n",
    "        lfiles.append(ifile)\n",
    "features = compute_embeddings(lfiles)\n",
    "print(features.shape)\n",
    "with open('data/dinov2_homy.pk', 'wb') as f:\n",
    "    pickle.dump(lfiles, f)\n",
    "np.save(\"data/dinov2_homy_feats.npy\", features)\n",
    "print('saving data ok')                  "
   ]
  }
 ],
 "metadata": {
  "kernelspec": {
   "display_name": "ml",
   "language": "python",
   "name": "python3"
  },
  "language_info": {
   "codemirror_mode": {
    "name": "ipython",
    "version": 3
   },
   "file_extension": ".py",
   "mimetype": "text/x-python",
   "name": "python",
   "nbconvert_exporter": "python",
   "pygments_lexer": "ipython3",
   "version": "3.9.21"
  }
 },
 "nbformat": 4,
 "nbformat_minor": 5
}
